{
 "cells": [
  {
   "cell_type": "markdown",
   "id": "89386631",
   "metadata": {},
   "source": [
    "# Desafios de Data Science\n",
    "### Este notebook apresenta a resolução dos desafios obrigatório e eletivo (Desafio 1) do módulo de Estatística para Data Science.\n",
    "### Aluno: José Eduardo da Silva Bezerra"
   ]
  },
  {
   "cell_type": "code",
   "execution_count": 2,
   "id": "6dbb5d58",
   "metadata": {},
   "outputs": [],
   "source": [
    "\n",
    "# Bibliotecas utilizadas\n",
    "import pandas as pd\n",
    "import numpy as np\n",
    "import matplotlib.pyplot as plt\n",
    "import seaborn as sns\n",
    "from scipy import stats\n",
    "\n",
    "# Estilo de gráficos\n",
    "sns.set(style=\"whitegrid\")\n"
   ]
  },
  {
   "cell_type": "markdown",
   "id": "0c4aed74",
   "metadata": {},
   "source": [
    "## Desafio Obrigatório - Análise de Dados de Vendas"
   ]
  },
  {
   "cell_type": "code",
   "execution_count": null,
   "id": "84863eb5",
   "metadata": {},
   "outputs": [
    {
     "data": {
      "text/plain": [
       "'vendas.xlsx'"
      ]
     },
     "execution_count": 3,
     "metadata": {},
     "output_type": "execute_result"
    }
   ],
   "source": [
    "\n",
    "# Criar DataFrame com os dados fornecidos\n",
    "dados_vendas = pd.DataFrame({\n",
    "    \"Região\": [\"Norte\", \"Norte\", \"Sul\", \"Sul\", \"Leste\", \"Oeste\"],\n",
    "    \"Mês\": [\"Jan\", \"Fev\", \"Jan\", \"Fev\", \"Mar\", \"Jan\"],\n",
    "    \"Vendas\": [1700, np.nan, 2300, 1950, 2100, 1850],\n",
    "    \"Despesas\": [320, 270, np.nan, 410, 360, 300]\n",
    "})\n",
    "\n",
    "# Salvar como Excel\n",
    "excel_path = \"relatorio_vendas.xlsx\"\n",
    "dados_vendas.to_excel(excel_path, index=False)\n",
    "excel_path  # Caminho salvo\n"
   ]
  },
  {
   "cell_type": "code",
   "execution_count": null,
   "id": "ee63949d",
   "metadata": {},
   "outputs": [],
   "source": [
    "\n",
    "# Carregar o arquivo\n",
    "df = pd.read_excel(excel_path)\n",
    "\n",
    "# Ver dados iniciais\n",
    "print(\"Dados originais:\")\n",
    "print(df)\n",
    "\n",
    "# Substituir NaN em 'Vendas' pela mediana e em 'Despesas' pela média\n",
    "df[\"Vendas\"].fillna(df[\"Vendas\"].median(), inplace=True)\n",
    "df[\"Despesas\"].fillna(df[\"Despesas\"].mean(), inplace=True)\n",
    "\n",
    "# Agrupar por Região e Mês\n",
    "agrupado = df.groupby([\"Região\", \"Mês\"]).agg({\n",
    "    \"Vendas\": \"sum\",\n",
    "    \"Despesas\": \"mean\"\n",
    "}).reset_index()\n",
    "\n",
    "# Mostrar resultado\n",
    "print(\"\\nDados agrupados:\")\n",
    "print(agrupado)\n",
    "\n",
    "# Combinar colunas horizontalmente (hstack)\n",
    "combinado = np.hstack([df[\"Vendas\"].values.reshape(-1,1), df[\"Despesas\"].values.reshape(-1,1)])\n",
    "print(\"\\nColunas combinadas (Vendas e Despesas):\")\n",
    "print(combinado)\n",
    "\n",
    "# Sumário estatístico\n",
    "print(\"\\nSumário estatístico:\")\n",
    "print(df.describe())\n",
    "\n",
    "#localizar o arquivo em excel\n",
    "import os\n",
    "\n",
    "print(\"Arquivo salvo em:\", os.path.abspath(excel_path))\n",
    "\n"
   ]
  },
  {
   "cell_type": "markdown",
   "id": "499e59f2",
   "metadata": {},
   "source": [
    "## Desafio Eletivo 1 - Análise de Idades e Testes Estatísticos"
   ]
  },
  {
   "cell_type": "code",
   "execution_count": null,
   "id": "68bb05df",
   "metadata": {},
   "outputs": [],
   "source": [
    "\n",
    "# Grupos de idade\n",
    "grupo1 = np.array([14, 17, 19, 23, 24, 27, 29, 32, 36, 41])\n",
    "grupo2 = np.array([16, 19, 22, 26, 27, 29, 33, 35, 39, 45])\n",
    "\n",
    "# Estatísticas básicas\n",
    "def resumo_estatistico(grupo):\n",
    "    media = np.mean(grupo)\n",
    "    variancia = np.var(grupo, ddof=1)\n",
    "    iqr = stats.iqr(grupo)\n",
    "    return media, variancia, iqr\n",
    "\n",
    "media1, var1, iqr1 = resumo_estatistico(grupo1)\n",
    "media2, var2, iqr2 = resumo_estatistico(grupo2)\n",
    "\n",
    "print(f\"Grupo 1 - Média: {media1:.2f}, Variância: {var1:.2f}, IQR: {iqr1:.2f}\")\n",
    "print(f\"Grupo 2 - Média: {media2:.2f}, Variância: {var2:.2f}, IQR: {iqr2:.2f}\")\n",
    "\n",
    "# Teste de normalidade\n",
    "sw1 = stats.shapiro(grupo1)\n",
    "sw2 = stats.shapiro(grupo2)\n",
    "print(f\"Shapiro-Wilk Grupo 1: W={sw1.statistic:.4f}, p={sw1.pvalue:.4f}\")\n",
    "print(f\"Shapiro-Wilk Grupo 2: W={sw2.statistic:.4f}, p={sw2.pvalue:.4f}\")\n"
   ]
  },
  {
   "cell_type": "code",
   "execution_count": null,
   "id": "210380b3",
   "metadata": {},
   "outputs": [],
   "source": [
    "\n",
    "# Escolha do teste\n",
    "if sw1.pvalue > 0.05 and sw2.pvalue > 0.05:\n",
    "    print(\"Distribuição normal - realizando teste t de Student...\")\n",
    "    t_result = stats.ttest_ind(grupo1, grupo2)\n",
    "    print(f\"Teste t: estatística t={t_result.statistic:.4f}, p={t_result.pvalue:.4f}\")\n",
    "else:\n",
    "    print(\"Distribuição não-normal - realizando teste de Mann-Whitney...\")\n",
    "    mw_result = stats.mannwhitneyu(grupo1, grupo2, alternative='two-sided')\n",
    "    print(f\"Teste Mann-Whitney: estatística U={mw_result.statistic:.4f}, p={mw_result.pvalue:.4f}\")\n",
    "\n",
    "# Histogramas\n",
    "plt.figure(figsize=(10,4))\n",
    "plt.subplot(1,2,1)\n",
    "sns.histplot(grupo1, bins=5, kde=True, color='blue')\n",
    "plt.title(\"Distribuição - Grupo 1\")\n",
    "plt.subplot(1,2,2)\n",
    "sns.histplot(grupo2, bins=5, kde=True, color='green')\n",
    "plt.title(\"Distribuição - Grupo 2\")\n",
    "plt.tight_layout()\n",
    "plt.show()\n",
    "\n",
    "# Boxplot comparando\n",
    "plt.figure(figsize=(6,4))\n",
    "sns.boxplot(data=[grupo1, grupo2])\n",
    "plt.xticks([0,1], [\"Grupo 1\", \"Grupo 2\"])\n",
    "plt.title(\"Boxplot Comparando Grupos\")\n",
    "plt.show()\n"
   ]
  }
 ],
 "metadata": {
  "kernelspec": {
   "display_name": "Python 3",
   "language": "python",
   "name": "python3"
  },
  "language_info": {
   "codemirror_mode": {
    "name": "ipython",
    "version": 3
   },
   "file_extension": ".py",
   "mimetype": "text/x-python",
   "name": "python",
   "nbconvert_exporter": "python",
   "pygments_lexer": "ipython3",
   "version": "3.12.10"
  }
 },
 "nbformat": 4,
 "nbformat_minor": 5
}
